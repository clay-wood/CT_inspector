{
 "cells": [
  {
   "cell_type": "code",
   "execution_count": null,
   "id": "7ab61980",
   "metadata": {},
   "outputs": [],
   "source": [
    "import numpy as np\n",
    "import matplotlib.pyplot as plt\n",
    "import matplotlib as mpl\n",
    "from io_tiff import get_volume_info, read_slice, read_volume\n",
    "from interactive_plotter_v1 import create_interactive_slice_plotter"
   ]
  },
  {
   "cell_type": "code",
   "execution_count": null,
   "id": "4baa0efa",
   "metadata": {},
   "outputs": [],
   "source": [
    "# Enable interactive Matplotlib backend (run this in your VS Code Jupyter cell)\n",
    "%matplotlib widget"
   ]
  },
  {
   "cell_type": "code",
   "execution_count": null,
   "id": "f22a678e",
   "metadata": {},
   "outputs": [],
   "source": [
    "node = \"8\"\n",
    "hws = \"8\"\n",
    "volume = \"C\"\n",
    "prefix=f\"./{volume}-deform_{node}_{hws}/dvc_{node}_{hws}_v3-ldic\"\n",
    "\n",
    "#Return Status is currently not supported for interactive plotting\n",
    "rs = read_volume(f\"{prefix}-returnStatus.tif\", memmap=True)\n",
    "\n",
    "xdisp = read_volume(f\"{prefix}-filtered-Xdisp.tif\", memmap=True)\n",
    "ydisp = read_volume(f\"{prefix}-filtered-Ydisp.tif\", memmap=True)\n",
    "zdisp = read_volume(f\"{prefix}-filtered-Zdisp.tif\", memmap=True)"
   ]
  },
  {
   "cell_type": "code",
   "execution_count": null,
   "id": "fb4ff996",
   "metadata": {},
   "outputs": [],
   "source": [
    "viewer = create_interactive_slice_plotter(\n",
    "    vol=xdisp,\n",
    "    voxel_size=1,\n",
    "    units=\"px\",\n",
    ")"
   ]
  },
  {
   "cell_type": "code",
   "execution_count": null,
   "id": "985c5e18",
   "metadata": {},
   "outputs": [],
   "source": []
  }
 ],
 "metadata": {
  "kernelspec": {
   "display_name": "spam-venv",
   "language": "python",
   "name": "python3"
  },
  "language_info": {
   "codemirror_mode": {
    "name": "ipython",
    "version": 3
   },
   "file_extension": ".py",
   "mimetype": "text/x-python",
   "name": "python",
   "nbconvert_exporter": "python",
   "pygments_lexer": "ipython3",
   "version": "3.12.11"
  }
 },
 "nbformat": 4,
 "nbformat_minor": 5
}
